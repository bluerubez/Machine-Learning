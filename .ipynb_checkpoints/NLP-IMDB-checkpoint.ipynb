{
 "metadata": {
  "name": "",
  "signature": "sha256:7eea069f703024a018484c3c8612d5212ea002d639f27da8825eda643c4b0d79"
 },
 "nbformat": 3,
 "nbformat_minor": 0,
 "worksheets": [
  {
   "cells": [
    {
     "cell_type": "heading",
     "level": 3,
     "metadata": {},
     "source": [
      "THIS NOTEBOOK SHOWS HOW TO PERFORM NATURAL LANGUAGE PROCESSING ON INTERNATIONAL MOVIE DATABASE REVIEWS. \n",
      "WE USE A RANDOM FOREST TO TRAIN A TEST SET TO BUILD A MODEL THAT CAN THEN PREDICT THE IMDB SCORE BASED ON THE REVIEW"
     ]
    },
    {
     "cell_type": "code",
     "collapsed": false,
     "input": [
      "import pandas as pd       "
     ],
     "language": "python",
     "metadata": {},
     "outputs": [],
     "prompt_number": 2
    },
    {
     "cell_type": "heading",
     "level": 3,
     "metadata": {},
     "source": [
      "OK SO LETS HAVE A LOOK AT THE DATA . SO THE ID IS THE PRIMARY KEY FOR EACH OBSERVATION, THE SENTIMENT IS A VALUE BETWEEN 0 AND 10 WHICH IS THE MOVIE RATING, AND PRETTY MUCH ALL OF THE DATA IS IN THE REVIEW COLUMN . ALSO IT LOOKS LIKE THERE ARE SOME HTML TAGS THAT WE SHOULD GET RID OF."
     ]
    },
    {
     "cell_type": "code",
     "collapsed": false,
     "input": [
      "!head -n 2 labeledTrainData.tsv"
     ],
     "language": "python",
     "metadata": {},
     "outputs": [
      {
       "output_type": "stream",
       "stream": "stdout",
       "text": [
        "id\tsentiment\treview\r\n",
        "\"5814_8\"\t1\t\"With all this stuff going down at the moment with MJ i've started listening to his music, watching the odd documentary here and there, watched The Wiz and watched Moonwalker again. Maybe i just want to get a certain insight into this guy who i thought was really cool in the eighties just to maybe make up my mind whether he is guilty or innocent. Moonwalker is part biography, part feature film which i remember going to see at the cinema when it was originally released. Some of it has subtle messages about MJ's feeling towards the press and also the obvious message of drugs are bad m'kay.<br /><br />Visually impressive but of course this is all about Michael Jackson so unless you remotely like MJ in anyway then you are going to hate this and find it boring. Some may call MJ an egotist for consenting to the making of this movie BUT MJ and most of his fans would say that he made it for the fans which if true is really nice of him.<br /><br />The actual feature film bit when it finally starts is only on for 20 minutes or so excluding the Smooth Criminal sequence and Joe Pesci is convincing as a psychopathic all powerful drug lord. Why he wants MJ dead so bad is beyond me. Because MJ overheard his plans? Nah, Joe Pesci's character ranted that he wanted people to know it is he who is supplying drugs etc so i dunno, maybe he just hates MJ's music.<br /><br />Lots of cool things in this like MJ turning into a car and a robot and the whole Speed Demon sequence. Also, the director must have had the patience of a saint when it came to filming the kiddy Bad sequence as usually directors hate working with one kid let alone a whole bunch of them performing a complex dance scene.<br /><br />Bottom line, this movie is for people who like MJ on one level or another (which i think is most people). If not, then stay away. It does try and give off a wholesome message and ironically MJ's bestest buddy in this movie is a girl! Michael Jackson is truly one of the most talented people ever to grace this planet but is he guilty? Well, with all the attention i've gave this subject....hmmm well i don't know because people can be different behind closed doors, i know this for a fact. He is either an extremely nice but stupid guy or one of the most sickest liars. I hope he is not the latter.\"\r\n"
       ]
      }
     ],
     "prompt_number": 6
    },
    {
     "cell_type": "code",
     "collapsed": false,
     "input": [
      "#AND THE DATA HAS 25,000 RATINGS IN THE TRAINING SET\n",
      "\n",
      "train = pd.read_csv(\"labeledTrainData.tsv\", header=0, delimiter=\"\\t\", quoting=3)\n",
      "train.shape"
     ],
     "language": "python",
     "metadata": {},
     "outputs": [
      {
       "metadata": {},
       "output_type": "pyout",
       "prompt_number": 9,
       "text": [
        "(25000, 3)"
       ]
      }
     ],
     "prompt_number": 9
    },
    {
     "cell_type": "heading",
     "level": 3,
     "metadata": {},
     "source": [
      "WE CAN USE BEAUTIFULSOUP TO GET RID OF THE HTML TAGS"
     ]
    },
    {
     "cell_type": "code",
     "collapsed": false,
     "input": [
      "from bs4 import BeautifulSoup\n",
      "example1 = BeautifulSoup(train[\"review\"][0]) \n",
      "print example1.get_text()"
     ],
     "language": "python",
     "metadata": {},
     "outputs": [
      {
       "output_type": "stream",
       "stream": "stdout",
       "text": [
        "\"With all this stuff going down at the moment with MJ i've started listening to his music, watching the odd documentary here and there, watched The Wiz and watched Moonwalker again. Maybe i just want to get a certain insight into this guy who i thought was really cool in the eighties just to maybe make up my mind whether he is guilty or innocent. Moonwalker is part biography, part feature film which i remember going to see at the cinema when it was originally released. Some of it has subtle messages about MJ's feeling towards the press and also the obvious message of drugs are bad m'kay.Visually impressive but of course this is all about Michael Jackson so unless you remotely like MJ in anyway then you are going to hate this and find it boring. Some may call MJ an egotist for consenting to the making of this movie BUT MJ and most of his fans would say that he made it for the fans which if true is really nice of him.The actual feature film bit when it finally starts is only on for 20 minutes or so excluding the Smooth Criminal sequence and Joe Pesci is convincing as a psychopathic all powerful drug lord. Why he wants MJ dead so bad is beyond me. Because MJ overheard his plans? Nah, Joe Pesci's character ranted that he wanted people to know it is he who is supplying drugs etc so i dunno, maybe he just hates MJ's music.Lots of cool things in this like MJ turning into a car and a robot and the whole Speed Demon sequence. Also, the director must have had the patience of a saint when it came to filming the kiddy Bad sequence as usually directors hate working with one kid let alone a whole bunch of them performing a complex dance scene.Bottom line, this movie is for people who like MJ on one level or another (which i think is most people). If not, then stay away. It does try and give off a wholesome message and ironically MJ's bestest buddy in this movie is a girl! Michael Jackson is truly one of the most talented people ever to grace this planet but is he guilty? Well, with all the attention i've gave this subject....hmmm well i don't know because people can be different behind closed doors, i know this for a fact. He is either an extremely nice but stupid guy or one of the most sickest liars. I hope he is not the latter.\"\n"
       ]
      }
     ],
     "prompt_number": 14
    },
    {
     "cell_type": "heading",
     "level": 3,
     "metadata": {},
     "source": [
      "WE USE REGULAR EXPRESSIONS TO GET RID OF ALL THE CHARACTERS WHICH ARE NOT UPPER CASE OR LOWER CASE LETTERS"
     ]
    },
    {
     "cell_type": "code",
     "collapsed": false,
     "input": [
      "import re\n",
      "letters_only = re.sub(\"[^a-zA-Z]\", \" \", example1.get_text() )  \n",
      "print letters_only"
     ],
     "language": "python",
     "metadata": {},
     "outputs": [
      {
       "output_type": "stream",
       "stream": "stdout",
       "text": [
        " With all this stuff going down at the moment with MJ i ve started listening to his music  watching the odd documentary here and there  watched The Wiz and watched Moonwalker again  Maybe i just want to get a certain insight into this guy who i thought was really cool in the eighties just to maybe make up my mind whether he is guilty or innocent  Moonwalker is part biography  part feature film which i remember going to see at the cinema when it was originally released  Some of it has subtle messages about MJ s feeling towards the press and also the obvious message of drugs are bad m kay Visually impressive but of course this is all about Michael Jackson so unless you remotely like MJ in anyway then you are going to hate this and find it boring  Some may call MJ an egotist for consenting to the making of this movie BUT MJ and most of his fans would say that he made it for the fans which if true is really nice of him The actual feature film bit when it finally starts is only on for    minutes or so excluding the Smooth Criminal sequence and Joe Pesci is convincing as a psychopathic all powerful drug lord  Why he wants MJ dead so bad is beyond me  Because MJ overheard his plans  Nah  Joe Pesci s character ranted that he wanted people to know it is he who is supplying drugs etc so i dunno  maybe he just hates MJ s music Lots of cool things in this like MJ turning into a car and a robot and the whole Speed Demon sequence  Also  the director must have had the patience of a saint when it came to filming the kiddy Bad sequence as usually directors hate working with one kid let alone a whole bunch of them performing a complex dance scene Bottom line  this movie is for people who like MJ on one level or another  which i think is most people   If not  then stay away  It does try and give off a wholesome message and ironically MJ s bestest buddy in this movie is a girl  Michael Jackson is truly one of the most talented people ever to grace this planet but is he guilty  Well  with all the attention i ve gave this subject    hmmm well i don t know because people can be different behind closed doors  i know this for a fact  He is either an extremely nice but stupid guy or one of the most sickest liars  I hope he is not the latter  \n"
       ]
      }
     ],
     "prompt_number": 15
    },
    {
     "cell_type": "heading",
     "level": 3,
     "metadata": {},
     "source": [
      "WE CONVERT ALL THE TEXT TO LOWER CASE THEN WE TAKE OUT THE WHITESPACE AND BAG UP EACH WORD AND PUT THEM IN A LIST"
     ]
    },
    {
     "cell_type": "code",
     "collapsed": false,
     "input": [
      "lower_case = letters_only.lower()  \n",
      "words = lower_case.split()\n",
      "type(words)"
     ],
     "language": "python",
     "metadata": {},
     "outputs": [
      {
       "metadata": {},
       "output_type": "pyout",
       "prompt_number": 100,
       "text": [
        "list"
       ]
      }
     ],
     "prompt_number": 100
    },
    {
     "cell_type": "heading",
     "level": 3,
     "metadata": {},
     "source": [
      "OK NOW WE CAN USE THE NATURAL LANGUAGE TOOLKIT TO GET A LIST OF ALL THE USELESS WORDS SO WE CAN FOCUS ONLY ON THE WORDS THAT HOLD MEANING. WE ARE ESPECIALLY LOOKING FOR FEELING TYPE WORDS \"LIKE\" \"LOVE\" \"HATE\""
     ]
    },
    {
     "cell_type": "code",
     "collapsed": false,
     "input": [
      "import nltk\n",
      "nltk.download()"
     ],
     "language": "python",
     "metadata": {},
     "outputs": [
      {
       "output_type": "stream",
       "stream": "stdout",
       "text": [
        "showing info http://nltk.github.com/nltk_data/\n"
       ]
      },
      {
       "metadata": {},
       "output_type": "pyout",
       "prompt_number": 17,
       "text": [
        "True"
       ]
      }
     ],
     "prompt_number": 17
    },
    {
     "cell_type": "code",
     "collapsed": false,
     "input": [
      "from nltk.corpus import stopwords \n",
      "print stopwords.words(\"english\") "
     ],
     "language": "python",
     "metadata": {},
     "outputs": [
      {
       "output_type": "stream",
       "stream": "stdout",
       "text": [
        "[u'i', u'me', u'my', u'myself', u'we', u'our', u'ours', u'ourselves', u'you', u'your', u'yours', u'yourself', u'yourselves', u'he', u'him', u'his', u'himself', u'she', u'her', u'hers', u'herself', u'it', u'its', u'itself', u'they', u'them', u'their', u'theirs', u'themselves', u'what', u'which', u'who', u'whom', u'this', u'that', u'these', u'those', u'am', u'is', u'are', u'was', u'were', u'be', u'been', u'being', u'have', u'has', u'had', u'having', u'do', u'does', u'did', u'doing', u'a', u'an', u'the', u'and', u'but', u'if', u'or', u'because', u'as', u'until', u'while', u'of', u'at', u'by', u'for', u'with', u'about', u'against', u'between', u'into', u'through', u'during', u'before', u'after', u'above', u'below', u'to', u'from', u'up', u'down', u'in', u'out', u'on', u'off', u'over', u'under', u'again', u'further', u'then', u'once', u'here', u'there', u'when', u'where', u'why', u'how', u'all', u'any', u'both', u'each', u'few', u'more', u'most', u'other', u'some', u'such', u'no', u'nor', u'not', u'only', u'own', u'same', u'so', u'than', u'too', u'very', u's', u't', u'can', u'will', u'just', u'don', u'should', u'now']\n"
       ]
      }
     ],
     "prompt_number": 18
    },
    {
     "cell_type": "heading",
     "level": 3,
     "metadata": {},
     "source": [
      "OK BUT NOW CLEAN UP ALL OF THE REVIEWS IN THE TRAINING SET"
     ]
    },
    {
     "cell_type": "code",
     "collapsed": false,
     "input": [
      "num_reviews = train[\"review\"].size\n",
      "\n",
      "clean_train_reviews = []\n",
      "\n",
      "for i in xrange( 0, num_reviews ):\n",
      "    review_text = BeautifulSoup(train[\"review\"][i]) \n",
      "    letters_only = re.sub(\"[^a-zA-Z]\", \" \", review_text.get_text()) \n",
      "    words = letters_only.lower().split()                             \n",
      "    stops = set(stopwords.words(\"english\"))                  \n",
      "    meaningful_words = [w for w in words if not w in stops]   \n",
      "    clean_review = \" \".join( meaningful_words )   \n",
      "\n",
      "    clean_train_reviews.append( clean_review  )"
     ],
     "language": "python",
     "metadata": {},
     "outputs": [],
     "prompt_number": 23
    },
    {
     "cell_type": "heading",
     "level": 3,
     "metadata": {},
     "source": [
      "NOW WE CAN USE SCIKIT-LEARN TO BUILD A MODEL THAT SUMS UP HOW MANY TIMES THE TOP 5000 WORDS, NOT IN THE STOP LIST, ARE USED. IN ESSENCE BUILDING A VOCABULARY OF THE DATA "
     ]
    },
    {
     "cell_type": "code",
     "collapsed": false,
     "input": [
      "from sklearn.feature_extraction.text import CountVectorizer\n",
      "  \n",
      "vectorizer = CountVectorizer(analyzer = \"word\",   \\\n",
      "                             tokenizer = None,    \\\n",
      "                             preprocessor = None, \\\n",
      "                             stop_words = None,   \\\n",
      "                             max_features = 5000) \n",
      "\n",
      "\n",
      "train_data_features = vectorizer.fit_transform(clean_train_reviews)\n",
      "#train_data_features is a 2D array with 25,000 rows and 5,000 columns with values for how many times the word was used\n",
      "train_data_features = train_data_features.toarray()"
     ],
     "language": "python",
     "metadata": {},
     "outputs": [],
     "prompt_number": 24
    },
    {
     "cell_type": "heading",
     "level": 3,
     "metadata": {},
     "source": [
      "Ok HERE ARE ALL THE WORDS THAT OCCUR MOST OFTEN"
     ]
    },
    {
     "cell_type": "code",
     "collapsed": false,
     "input": [
      "import numpy as np\n",
      "\n",
      "dist = np.sum(train_data_features, axis=0)\n",
      "\n",
      "vocab = vectorizer.get_feature_names()\n",
      "boole = {}\n",
      "count_dict = {}\n",
      "for tag, count in zip(vocab, dist):\n",
      "    count_dict['tag'] =  count\n",
      "    if count_dict['tag']>4000:\n",
      "        print tag,count_dict['tag']"
     ],
     "language": "python",
     "metadata": {},
     "outputs": [
      {
       "output_type": "stream",
       "stream": "stdout",
       "text": [
        "acting 6490\n",
        "actors 4486\n",
        "actually 4237\n",
        "also 9155\n",
        "another 4325\n",
        "back 4972\n",
        "bad 9301\n",
        "best 6414\n",
        "better 5737\n",
        "character 7022\n",
        "characters 7154\n",
        "could 7921\n",
        "didn 4337\n",
        "director 4444\n",
        "doesn 4551\n",
        "end 5648\n",
        "even 12646\n",
        "ever 5995\n",
        "film 40146\n",
        "films 6887\n",
        "find 4130\n",
        "first 9061\n",
        "funny 4288\n",
        "get 9310\n",
        "go 5156\n",
        "going 4101\n",
        "good 15140\n",
        "great 9058\n",
        "know 6166\n",
        "life 6628\n",
        "like 20274\n",
        "little 6435\n",
        "look 4145\n",
        "love 6453\n",
        "made 8362\n",
        "make 8021\n",
        "makes 4202\n",
        "man 5982\n",
        "many 6675\n",
        "movie 44030\n",
        "movies 7663\n",
        "much 9765\n",
        "never 6484\n",
        "new 4310\n",
        "nothing 4290\n",
        "old 4525\n",
        "one 26788\n",
        "part 4042\n",
        "people 9285\n",
        "plot 6585\n",
        "re 4576\n",
        "real 4737\n",
        "really 11736\n",
        "say 5395\n",
        "scene 5378\n",
        "scenes 5207\n",
        "see 11474\n",
        "seen 6679\n",
        "show 6294\n",
        "something 5077\n",
        "still 5622\n",
        "story 11983\n",
        "thing 4526\n",
        "think 7296\n",
        "though 4566\n",
        "time 12723\n",
        "two 6906\n",
        "ve 5182\n",
        "watch 6972\n",
        "watching 4602\n",
        "way 8026\n",
        "well 10661\n",
        "work 4371\n",
        "would 12436\n",
        "years 4516\n"
       ]
      }
     ],
     "prompt_number": 99
    },
    {
     "cell_type": "heading",
     "level": 3,
     "metadata": {},
     "source": [
      "NOW WE CAN CREATE A RANDOM FOREST MODEL BASED ON THE REVIEWS. WE WILL TRY TO CLASSIFY THE REVIEWS USING 100 TREES IN THIS CASE"
     ]
    },
    {
     "cell_type": "code",
     "collapsed": false,
     "input": [
      "from sklearn.ensemble import RandomForestClassifier\n",
      "\n",
      "forest = RandomForestClassifier(n_estimators = 100) \n",
      "\n",
      "forest = forest.fit( train_data_features, train[\"sentiment\"] )"
     ],
     "language": "python",
     "metadata": {},
     "outputs": [],
     "prompt_number": 94
    },
    {
     "cell_type": "heading",
     "level": 3,
     "metadata": {},
     "source": [
      "NOW CLEAN THE TEST DATA THE SAME WAY AND APPLY OUR RANDOM FOREST MODEL TO THE TEST DATA !"
     ]
    },
    {
     "cell_type": "code",
     "collapsed": false,
     "input": [
      "test = pd.read_csv(\"testData.tsv\", header=0, delimiter=\"\\t\", quoting=3 )\n",
      "\n",
      "print test.shape\n",
      "\n",
      "num_reviews = len(test[\"review\"])\n",
      "clean_test_reviews = [] \n",
      "\n",
      "clean_train_reviews = []\n",
      "\n",
      "for i in xrange( 0, num_reviews ):\n",
      "    review_text = BeautifulSoup(train[\"review\"][i]) \n",
      "    letters_only = re.sub(\"[^a-zA-Z]\", \" \", review_text.get_text()) \n",
      "    words = letters_only.lower().split()                             \n",
      "    stops = set(stopwords.words(\"english\"))                  \n",
      "    meaningful_words = [w for w in words if not w in stops]   \n",
      "    clean_review_test = \" \".join( meaningful_words )   \n",
      "\n",
      "    clean_test_reviews.append( clean_review_test  )\n",
      "\n",
      "\n",
      "test_data_features = vectorizer.transform(clean_test_reviews)\n",
      "test_data_features = test_data_features.toarray()\n",
      "\n",
      "# Use the random forest to make sentiment label predictions\n",
      "result = forest.predict(test_data_features)\n",
      "# The submission file for this kaggle competition is just your sentiment predict as the values to the primary keys\n",
      "output = pd.DataFrame( data={\"id\":test[\"id\"], \"sentiment\":result} )\n",
      "\n",
      "output.to_csv( \"Bag_of_Words_model.csv\", index=False, quoting=3 )"
     ],
     "language": "python",
     "metadata": {},
     "outputs": [
      {
       "output_type": "stream",
       "stream": "stdout",
       "text": [
        "(25000, 2)\n"
       ]
      }
     ],
     "prompt_number": 96
    },
    {
     "cell_type": "code",
     "collapsed": false,
     "input": [
      "print output"
     ],
     "language": "python",
     "metadata": {},
     "outputs": [
      {
       "output_type": "stream",
       "stream": "stdout",
       "text": [
        "               id  sentiment\n",
        "0      \"12311_10\"          1\n",
        "1        \"8348_2\"          1\n",
        "2        \"5828_4\"          0\n",
        "3        \"7186_2\"          0\n",
        "4       \"12128_7\"          1\n",
        "5        \"2913_8\"          1\n",
        "6        \"4396_1\"          0\n",
        "7         \"395_2\"          0\n",
        "8       \"10616_1\"          0\n",
        "9        \"9074_9\"          1\n",
        "10       \"9252_3\"          0\n",
        "11       \"9896_9\"          1\n",
        "12        \"574_4\"          1\n",
        "13      \"11182_8\"          0\n",
        "14      \"11656_4\"          0\n",
        "15       \"2322_4\"          0\n",
        "16       \"8703_1\"          0\n",
        "17       \"7483_1\"          0\n",
        "18      \"6007_10\"          1\n",
        "19      \"12424_4\"          1\n",
        "20       \"4672_1\"          1\n",
        "21      \"10841_3\"          1\n",
        "22       \"8954_7\"          1\n",
        "23       \"7392_1\"          0\n",
        "24      \"10288_8\"          0\n",
        "25       \"5343_4\"          1\n",
        "26       \"4950_1\"          0\n",
        "27       \"9257_4\"          0\n",
        "28       \"8689_3\"          0\n",
        "29       \"4480_2\"          0\n",
        "...           ...        ...\n",
        "24970   \"6857_10\"          1\n",
        "24971   \"11091_8\"          1\n",
        "24972    \"4167_2\"          1\n",
        "24973     \"679_4\"          0\n",
        "24974   \"10147_1\"          1\n",
        "24975    \"6875_1\"          1\n",
        "24976    \"923_10\"          0\n",
        "24977    \"6200_8\"          1\n",
        "24978    \"7208_8\"          1\n",
        "24979    \"5363_8\"          1\n",
        "24980    \"4067_8\"          1\n",
        "24981    \"1773_7\"          1\n",
        "24982   \"1498_10\"          0\n",
        "24983  \"10497_10\"          0\n",
        "24984   \"3444_10\"          0\n",
        "24985     \"588_2\"          0\n",
        "24986    \"9678_9\"          1\n",
        "24987    \"1983_9\"          1\n",
        "24988    \"5012_3\"          1\n",
        "24989   \"12240_2\"          1\n",
        "24990    \"5071_2\"          1\n",
        "24991    \"5078_2\"          0\n",
        "24992   \"10069_3\"          0\n",
        "24993    \"7407_8\"          0\n",
        "24994    \"7207_1\"          0\n",
        "24995   \"2155_10\"          0\n",
        "24996     \"59_10\"          0\n",
        "24997    \"2531_1\"          0\n",
        "24998    \"7772_8\"          0\n",
        "24999  \"11465_10\"          1\n",
        "\n",
        "[25000 rows x 2 columns]\n"
       ]
      }
     ],
     "prompt_number": 97
    }
   ],
   "metadata": {}
  }
 ]
}